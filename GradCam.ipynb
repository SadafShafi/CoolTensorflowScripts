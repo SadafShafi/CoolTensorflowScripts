{
  "nbformat": 4,
  "nbformat_minor": 0,
  "metadata": {
    "colab": {
      "name": "GradCam.ipynb",
      "provenance": [],
      "authorship_tag": "ABX9TyOnC5mhZRd5fHVG66wylbyO",
      "include_colab_link": true
    },
    "kernelspec": {
      "name": "python3",
      "display_name": "Python 3"
    },
    "language_info": {
      "name": "python"
    },
    "accelerator": "GPU"
  },
  "cells": [
    {
      "cell_type": "markdown",
      "metadata": {
        "id": "view-in-github",
        "colab_type": "text"
      },
      "source": [
        "<a href=\"https://colab.research.google.com/github/SadafShafi/CoolTensorflowScripts/blob/main/GradCam.ipynb\" target=\"_parent\"><img src=\"https://colab.research.google.com/assets/colab-badge.svg\" alt=\"Open In Colab\"/></a>"
      ]
    },
    {
      "cell_type": "code",
      "metadata": {
        "colab": {
          "base_uri": "https://localhost:8080/"
        },
        "id": "Kvz28ehWzdR5",
        "outputId": "f30f17a1-d6ad-476a-b08a-5dfe9e2c4278"
      },
      "source": [
        "import tensorflow as tf\n",
        "import numpy as np \n",
        "\n",
        "(x_train, y_train), (x_test, y_test) = tf.keras.datasets.cifar10.load_data()\n",
        "\n",
        "# train set / data \n",
        "x_train = x_train.astype('float32') / 255\n",
        "# train set / target \n",
        "# y_train = tf.keras.utils.to_categorical(y_train , num_classes=10)\n",
        "\n",
        "# validation set / data \n",
        "x_test = x_test.astype('float32') / 255\n",
        "# validation set / target \n",
        "# y_test = tf.keras.utils.to_categorical(y_test, num_classes=10)\n",
        "\n",
        "print(x_train.shape, y_train.shape)\n",
        "print(x_test.shape, y_test.shape) "
      ],
      "execution_count": 1,
      "outputs": [
        {
          "output_type": "stream",
          "name": "stdout",
          "text": [
            "Downloading data from https://www.cs.toronto.edu/~kriz/cifar-10-python.tar.gz\n",
            "170500096/170498071 [==============================] - 2s 0us/step\n",
            "170508288/170498071 [==============================] - 2s 0us/step\n",
            "(50000, 32, 32, 3) (50000, 1)\n",
            "(10000, 32, 32, 3) (10000, 1)\n"
          ]
        }
      ]
    },
    {
      "cell_type": "code",
      "metadata": {
        "id": "uwpc5tbJHoey"
      },
      "source": [
        "from tensorflow.keras.models import Sequential\n",
        "from tensorflow.keras.layers import Conv2D,MaxPool2D,Dense,Flatten,Dropout,Input, AveragePooling2D, Activation,Conv2D, MaxPooling2D, BatchNormalization,Concatenate\n",
        "from tensorflow.keras.callbacks import EarlyStopping, TensorBoard\n",
        "from tensorflow.keras import regularizers, optimizers\n",
        "\n",
        "model = Sequential()\n",
        "model.add(Conv2D(32, (3, 3), activation='relu', kernel_initializer='he_uniform', padding='same', input_shape=(32, 32, 3)))\n",
        "model.add(BatchNormalization())\n",
        "model.add(Conv2D(32, (3, 3), activation='relu', kernel_initializer='he_uniform', padding='same'))\n",
        "model.add(BatchNormalization())\n",
        "model.add(MaxPool2D((2, 2)))\n",
        "model.add(Dropout(0.2))\n",
        "model.add(Conv2D(64, (3, 3), activation='relu', kernel_initializer='he_uniform', padding='same'))\n",
        "model.add(BatchNormalization())\n",
        "model.add(Conv2D(64, (3, 3), activation='relu', kernel_initializer='he_uniform', padding='same'))\n",
        "model.add(BatchNormalization())\n",
        "model.add(MaxPool2D((2, 2)))\n",
        "model.add(Dropout(0.3))\n",
        "model.add(Conv2D(128, (3, 3), activation='relu', kernel_initializer='he_uniform', padding='same'))\n",
        "model.add(BatchNormalization())\n",
        "model.add(Conv2D(128, (3, 3), activation='relu', kernel_initializer='he_uniform', padding='same'))\n",
        "model.add(BatchNormalization())\n",
        "model.add(MaxPool2D((2, 2)))\n",
        "model.add(Dropout(0.4))\n",
        "model.add(Flatten())\n",
        "model.add(Dense(128*2, activation='relu', kernel_initializer='he_uniform'))\n",
        "model.add(Dense(128, activation='relu', kernel_initializer='he_uniform'))\n",
        "model.add(BatchNormalization())\n",
        "model.add(Dropout(0.5))\n",
        "model.add(Dense(128*4, activation='relu', kernel_initializer='he_uniform'))\n",
        "model.add(BatchNormalization())\n",
        "model.add(Dense(128*2, activation='relu', kernel_initializer='he_uniform'))\n",
        "model.add(Dense(128, activation='relu', kernel_initializer='he_uniform'))\n",
        "model.add(BatchNormalization())\n",
        "model.add(Dense(128*4, activation='relu', kernel_initializer='he_uniform'))\n",
        "model.add(BatchNormalization())\n",
        "model.add(Dense(128*2, activation='relu', kernel_initializer='he_uniform'))\n",
        "model.add(Dense(128, activation='relu', kernel_initializer='he_uniform'))\n",
        "model.add(BatchNormalization())\n",
        "model.add(Dropout(0.5))\n",
        "\n",
        "model.add(Dense(10))\n",
        "\n",
        "func_model = model"
      ],
      "execution_count": 3,
      "outputs": []
    },
    {
      "cell_type": "code",
      "metadata": {
        "colab": {
          "base_uri": "https://localhost:8080/"
        },
        "id": "nt2oZhcizg2e",
        "outputId": "3338fa87-e5e9-40d5-ca25-531fee71de04"
      },
      "source": [
        "func_model.compile(\n",
        "          loss      = tf.keras.losses.SparseCategoricalCrossentropy(from_logits=True),\n",
        "          metrics   =  ['accuracy'],\n",
        "          # tf.keras.metrics.CategoricalAccuracy(),\n",
        "          optimizer = tf.keras.optimizers.Adam(0.0005)\n",
        "          )\n",
        "# fit \n",
        "func_model.fit(x_train, y_train,\n",
        "               validation_split = 0.2,\n",
        "              #  batch_size=128, \n",
        "               epochs=10, )"
      ],
      "execution_count": 4,
      "outputs": [
        {
          "output_type": "stream",
          "name": "stdout",
          "text": [
            "Epoch 1/10\n",
            "1250/1250 [==============================] - 78s 36ms/step - loss: 2.3602 - accuracy: 0.2165 - val_loss: 1.7969 - val_accuracy: 0.3301\n",
            "Epoch 2/10\n",
            "1250/1250 [==============================] - 44s 35ms/step - loss: 1.7791 - accuracy: 0.3453 - val_loss: 1.5449 - val_accuracy: 0.4304\n",
            "Epoch 3/10\n",
            "1250/1250 [==============================] - 44s 36ms/step - loss: 1.5506 - accuracy: 0.4335 - val_loss: 1.4077 - val_accuracy: 0.4800\n",
            "Epoch 4/10\n",
            "1250/1250 [==============================] - 44s 36ms/step - loss: 1.3905 - accuracy: 0.4958 - val_loss: 1.1876 - val_accuracy: 0.5604\n",
            "Epoch 5/10\n",
            "1250/1250 [==============================] - 45s 36ms/step - loss: 1.2474 - accuracy: 0.5605 - val_loss: 1.0235 - val_accuracy: 0.6339\n",
            "Epoch 6/10\n",
            "1250/1250 [==============================] - 43s 34ms/step - loss: 1.1169 - accuracy: 0.6105 - val_loss: 0.9668 - val_accuracy: 0.6576\n",
            "Epoch 7/10\n",
            "1250/1250 [==============================] - 44s 35ms/step - loss: 1.0132 - accuracy: 0.6538 - val_loss: 0.8469 - val_accuracy: 0.7011\n",
            "Epoch 8/10\n",
            "1250/1250 [==============================] - 44s 35ms/step - loss: 0.9220 - accuracy: 0.6897 - val_loss: 0.7803 - val_accuracy: 0.7279\n",
            "Epoch 9/10\n",
            "1250/1250 [==============================] - 44s 36ms/step - loss: 0.8538 - accuracy: 0.7171 - val_loss: 0.7214 - val_accuracy: 0.7482\n",
            "Epoch 10/10\n",
            "1250/1250 [==============================] - 43s 34ms/step - loss: 0.7903 - accuracy: 0.7380 - val_loss: 0.6587 - val_accuracy: 0.7739\n"
          ]
        },
        {
          "output_type": "execute_result",
          "data": {
            "text/plain": [
              "<keras.callbacks.History at 0x7fd440181b10>"
            ]
          },
          "metadata": {},
          "execution_count": 4
        }
      ]
    },
    {
      "cell_type": "markdown",
      "metadata": {
        "id": "jHhwriHb0l3W"
      },
      "source": [
        "**GradCam Algorithm**"
      ]
    },
    {
      "cell_type": "code",
      "metadata": {
        "id": "UAFNnoGIzmcu"
      },
      "source": [
        "from tensorflow.keras.models import Model\n",
        "import tensorflow as tf\n",
        "import numpy as np\n",
        "import cv2\n",
        "\n",
        "class GradCAM:\n",
        "    def __init__(self, model, classIdx, layerName=None):\n",
        "        # store the model, the class index used to measure the class\n",
        "        # activation map, and the layer to be used when visualizing\n",
        "        # the class activation map\n",
        "        self.model = model\n",
        "        self.classIdx = classIdx\n",
        "        self.layerName = layerName\n",
        "        # if the layer name is None, attempt to automatically find\n",
        "        # the target output layer\n",
        "        if self.layerName is None:\n",
        "            self.layerName = self.find_target_layer()\n",
        "\n",
        "    def find_target_layer(self):\n",
        "        # attempt to find the final convolutional layer in the network\n",
        "        # by looping over the layers of the network in reverse order\n",
        "        for layer in reversed(self.model.layers):\n",
        "            # check to see if the layer has a 4D output\n",
        "            if len(layer.output_shape) == 4:\n",
        "                return layer.name\n",
        "        # otherwise, we could not find a 4D layer so the GradCAM\n",
        "        # algorithm cannot be applied\n",
        "        raise ValueError(\"Could not find 4D layer. Cannot apply GradCAM.\")\n",
        "\n",
        "\n",
        "    def compute_heatmap(self, image, eps=1e-8):\n",
        "        # construct our gradient model by supplying (1) the inputs\n",
        "        # to our pre-trained model, (2) the output of the (presumably)\n",
        "        # final 4D layer in the network, and (3) the output of the\n",
        "        # softmax activations from the model\n",
        "        gradModel = Model(\n",
        "            inputs=[self.model.inputs],\n",
        "            outputs=[self.model.get_layer(self.layerName).output, self.model.output])\n",
        "\n",
        "        # record operations for automatic differentiation\n",
        "        with tf.GradientTape() as tape:\n",
        "            # cast the image tensor to a float-32 data type, pass the\n",
        "            # image through the gradient model, and grab the loss\n",
        "            # associated with the specific class index\n",
        "            inputs = tf.cast(image, tf.float32)\n",
        "            (convOutputs, predictions) = gradModel(inputs)\n",
        "            \n",
        "            loss = predictions[:, tf.argmax(predictions[0])]\n",
        "    \n",
        "        # use automatic differentiation to compute the gradients\n",
        "        grads = tape.gradient(loss, convOutputs)\n",
        "\n",
        "        # compute the guided gradients\n",
        "        castConvOutputs = tf.cast(convOutputs > 0, \"float32\")\n",
        "        castGrads = tf.cast(grads > 0, \"float32\")\n",
        "        guidedGrads = castConvOutputs * castGrads * grads\n",
        "        # the convolution and guided gradients have a batch dimension\n",
        "        # (which we don't need) so let's grab the volume itself and\n",
        "        # discard the batch\n",
        "        convOutputs = convOutputs[0]\n",
        "        guidedGrads = guidedGrads[0]\n",
        "\n",
        "        # compute the average of the gradient values, and using them\n",
        "        # as weights, compute the ponderation of the filters with\n",
        "        # respect to the weights\n",
        "        weights = tf.reduce_mean(guidedGrads, axis=(0, 1))\n",
        "        cam = tf.reduce_sum(tf.multiply(weights, convOutputs), axis=-1)\n",
        "\n",
        "        # grab the spatial dimensions of the input image and resize\n",
        "        # the output class activation map to match the input image\n",
        "        # dimensions\n",
        "        (w, h) = (image.shape[2], image.shape[1])\n",
        "        heatmap = cv2.resize(cam.numpy(), (w, h))\n",
        "        # normalize the heatmap such that all values lie in the range\n",
        "        # [0, 1], scale the resulting values to the range [0, 255],\n",
        "        # and then convert to an unsigned 8-bit integer\n",
        "        numer = heatmap - np.min(heatmap)\n",
        "        denom = (heatmap.max() - heatmap.min()) + eps\n",
        "        heatmap = numer / denom\n",
        "        heatmap = (heatmap * 255).astype(\"uint8\")\n",
        "        # return the resulting heatmap to the calling function\n",
        "        return heatmap\n",
        "\n",
        "    def overlay_heatmap(self, heatmap, image, alpha=0.5,\n",
        "                        colormap=cv2.COLORMAP_VIRIDIS):\n",
        "        # apply the supplied color map to the heatmap and then\n",
        "        # overlay the heatmap on the input image\n",
        "        heatmap = cv2.applyColorMap(heatmap, colormap)\n",
        "        output = cv2.addWeighted(image, alpha, heatmap, 1 - alpha, 0)\n",
        "        # return a 2-tuple of the color mapped heatmap and the output,\n",
        "        # overlaid image\n",
        "        return (heatmap, output)"
      ],
      "execution_count": 5,
      "outputs": []
    },
    {
      "cell_type": "code",
      "metadata": {
        "id": "g9GaWEBH25UY"
      },
      "source": [
        "# Generate a random image to be tested\n",
        "from random import randint\n",
        "from PIL import Image\n",
        "idx = randint(0,len(x_test))\n",
        "im = Image.fromarray((x_test[idx] * 255).astype(np.uint8))\n",
        "im.save(\"your_file.jpg\")"
      ],
      "execution_count": 131,
      "outputs": []
    },
    {
      "cell_type": "code",
      "metadata": {
        "id": "MzO3UZc42-1c"
      },
      "source": [
        "impath = \"/content/your_file.jpg\"\n",
        "image = cv2.imread(impath)\n",
        "x = np.expand_dims(image, axis=0)"
      ],
      "execution_count": 132,
      "outputs": []
    },
    {
      "cell_type": "code",
      "metadata": {
        "colab": {
          "base_uri": "https://localhost:8080/"
        },
        "id": "NHXOM7hCzrFX",
        "outputId": "96e0770a-7b7a-4b47-de53-e4a9838cba7d"
      },
      "source": [
        "labels = {0:\"airplane\",1:\"automobile\",2:\"bird\",3:\"cat\",4:\"deer\",5:\"dog\",6:\"frog\",7:\"horse\",8:\"ship\",9:\"truck\"}\n",
        "# image = x_test[0]\n",
        "image = cv2.resize(image, (32, 32))\n",
        "image = image.astype('float32') / 255\n",
        "image = np.expand_dims(image, axis=0)\n",
        "\n",
        "preds = func_model.predict(image) \n",
        "i = np.argmax(preds[0])\n",
        "i"
      ],
      "execution_count": 133,
      "outputs": [
        {
          "output_type": "execute_result",
          "data": {
            "text/plain": [
              "8"
            ]
          },
          "metadata": {},
          "execution_count": 133
        }
      ]
    },
    {
      "cell_type": "code",
      "metadata": {
        "colab": {
          "base_uri": "https://localhost:8080/"
        },
        "id": "NFujFfsO-yNb",
        "outputId": "c6888d33-0c39-4df0-ffc4-f749228d963a"
      },
      "source": [
        "# impath = '/content/dog.jpg'\n",
        "image = cv2.imread(impath)\n",
        "# image = x_test[0]\n",
        "image = cv2.resize(image, (32, 32))\n",
        "image = np.expand_dims(image,axis=0)\n",
        "image.shape"
      ],
      "execution_count": 134,
      "outputs": [
        {
          "output_type": "execute_result",
          "data": {
            "text/plain": [
              "(1, 32, 32, 3)"
            ]
          },
          "metadata": {},
          "execution_count": 134
        }
      ]
    },
    {
      "cell_type": "code",
      "metadata": {
        "colab": {
          "base_uri": "https://localhost:8080/"
        },
        "id": "eFUGJlPazvi-",
        "outputId": "13980d7a-ad9c-4b18-a843-b98cdaecdf90"
      },
      "source": [
        "icam = GradCAM(func_model, i, None) \n",
        "heatmap = icam.compute_heatmap(image)\n",
        "heatmap = cv2.resize(heatmap, (32, 32))\n",
        "\n",
        "image = cv2.imread(impath)\n",
        "# image = x_test[0]\n",
        "\n",
        "# print(image.shape,x_test[0].shape)\n",
        "image = cv2.resize(image, (32, 32))\n",
        "print(heatmap.shape, image.shape)\n",
        "\n",
        "(heatmap, output) = icam.overlay_heatmap(heatmap, image, alpha=0.5)"
      ],
      "execution_count": 135,
      "outputs": [
        {
          "output_type": "stream",
          "name": "stdout",
          "text": [
            "(32, 32) (32, 32, 3)\n"
          ]
        }
      ]
    },
    {
      "cell_type": "code",
      "metadata": {
        "colab": {
          "base_uri": "https://localhost:8080/",
          "height": 183
        },
        "id": "wLTiPdFLzxV3",
        "outputId": "81437529-107a-462e-d20a-d3b7a3c362c4"
      },
      "source": [
        "from matplotlib import pyplot as plt\n",
        "fig, ax = plt.subplots(1, 3)\n",
        "print(labels[i])\n",
        "ax[0].imshow(heatmap)\n",
        "ax[1].imshow(image)\n",
        "ax[2].imshow(output)"
      ],
      "execution_count": 136,
      "outputs": [
        {
          "output_type": "stream",
          "name": "stdout",
          "text": [
            "ship\n"
          ]
        },
        {
          "output_type": "execute_result",
          "data": {
            "text/plain": [
              "<matplotlib.image.AxesImage at 0x7fd3cc7863d0>"
            ]
          },
          "metadata": {},
          "execution_count": 136
        },
        {
          "output_type": "display_data",
          "data": {
            "image/png": "[encoded data removed]",
            "text/plain": [
              "<Figure size 432x288 with 3 Axes>"
            ]
          },
          "metadata": {
            "needs_background": "light"
          }
        }
      ]
    },
    {
      "cell_type": "code",
      "metadata": {
        "colab": {
          "base_uri": "https://localhost:8080/",
          "height": 781
        },
        "id": "_roFNYfZzzsh",
        "outputId": "e543aea3-322a-4053-b46c-c8dcde58ded2"
      },
      "source": [
        "plt.imshow(heatmap)\n",
        "plt.show()\n",
        "plt.imshow(image)\n",
        "plt.show()\n",
        "print(labels[i])\n",
        "plt.imshow(output)\n",
        "plt.show()"
      ],
      "execution_count": 137,
      "outputs": [
        {
          "output_type": "display_data",
          "data": {
            "image/png": "[encoded data removed]",
            "text/plain": [
              "<Figure size 432x288 with 1 Axes>"
            ]
          },
          "metadata": {
            "needs_background": "light"
          }
        },
        {
          "output_type": "display_data",
          "data": {
            "image/png": "[encoded data removed]",
            "text/plain": [
              "<Figure size 432x288 with 1 Axes>"
            ]
          },
          "metadata": {
            "needs_background": "light"
          }
        },
        {
          "output_type": "stream",
          "name": "stdout",
          "text": [
            "ship\n"
          ]
        },
        {
          "output_type": "display_data",
          "data": {
            "image/png": "[encoded data removed]",
            "text/plain": [
              "<Figure size 432x288 with 1 Axes>"
            ]
          },
          "metadata": {
            "needs_background": "light"
          }
        }
      ]
    },
    {
      "cell_type": "code",
      "metadata": {
        "id": "lwTA1VBSyDZ4"
      },
      "source": [
        ""
      ],
      "execution_count": 137,
      "outputs": []
    }
  ]
}